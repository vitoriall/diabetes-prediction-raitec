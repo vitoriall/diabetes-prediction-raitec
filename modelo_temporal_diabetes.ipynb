{
  "nbformat": 4,
  "nbformat_minor": 0,
  "metadata": {
    "colab": {
      "provenance": [],
      "toc_visible": true
    },
    "kernelspec": {
      "name": "python3",
      "display_name": "Python 3"
    },
    "language_info": {
      "name": "python"
    }
  },
  "cells": [
    {
      "cell_type": "markdown",
      "source": [
        "# **Modelo Temporal Previsão de Risco de Diabetes**"
      ],
      "metadata": {
        "id": "S_HNQM2Xlq9X"
      }
    },
    {
      "cell_type": "markdown",
      "source": [
        "## **Importações**"
      ],
      "metadata": {
        "id": "Rm7otkeMKxDv"
      }
    },
    {
      "cell_type": "code",
      "source": [
        "import pandas as pd\n",
        "import numpy as np\n",
        "import matplotlib.pyplot as plt\n",
        "import xgboost as xgb\n",
        "from sklearn.preprocessing import StandardScaler\n",
        "from sklearn.metrics import classification_report"
      ],
      "metadata": {
        "id": "OjrzI5vEKsS3"
      },
      "execution_count": 9,
      "outputs": []
    },
    {
      "cell_type": "markdown",
      "source": [
        "## **Carregamento e preparação dos dados**"
      ],
      "metadata": {
        "id": "YyHOZHiqo2lV"
      }
    },
    {
      "cell_type": "code",
      "source": [
        "import pandas as pd\n",
        "\n",
        "#Lê o arquivo CSV\n",
        "df = pd.read_csv(r'https://raw.githubusercontent.com/vitoriall/diabetes-prediction-raitec/refs/heads/main/data/dados_pacientes_diabetes%20temporal.csv')\n",
        "\n",
        "#Converte a coluna 'data' para tipo datetime\n",
        "df['data'] = pd.to_datetime(df['data'])\n",
        "\n",
        "# Ordenar os dados por paciente e data\n",
        "df = df.sort_values(by=['paciente_id', 'data'])"
      ],
      "metadata": {
        "id": "HCZQ31WfpBoW"
      },
      "execution_count": 10,
      "outputs": []
    },
    {
      "cell_type": "markdown",
      "source": [
        "## **Criação de variáveis temporais (lags, médias móveis, diferenças)**"
      ],
      "metadata": {
        "id": "8WL1FTFkp-sl"
      }
    },
    {
      "cell_type": "code",
      "source": [
        "def add_temporal_features(group):\n",
        "    #Copia o grupo para evitar avisos do pandas sobre alteração de dados em slices da tabela original.\n",
        "    group = group.copy()\n",
        "\n",
        "    #shift(n) pega o valor de glicemia de n dias atrás.\n",
        "    #Isso permite capturar como a glicemia estava antes, e identificar aumentos ou quedas.\n",
        "    group['glicemia_lag1'] = group['glicemia'].shift(1)\n",
        "    group['glicemia_lag3'] = group['glicemia'].shift(3)\n",
        "    group['glicemia_lag7'] = group['glicemia'].shift(7)\n",
        "\n",
        "    #Isso calcula a média da glicemia nos últimos 3, 5 ou 7 registros.\n",
        "    #Serve para suavizar a série e detectar tendências de forma mais robusta.\n",
        "    group['glicemia_ma3'] = group['glicemia'].rolling(window=3).mean()\n",
        "    group['glicemia_ma5'] = group['glicemia'].rolling(window=5).mean()\n",
        "    group['glicemia_ma7'] = group['glicemia'].rolling(window=7).mean()\n",
        "\n",
        "    # Captura a variação da glicemia entre hoje e 1 ou 3 dias atrás.\n",
        "    group['glicemia_diff1'] = group['glicemia'] - group['glicemia_lag1']\n",
        "    group['glicemia_diff3'] = group['glicemia'] - group['glicemia_lag3']\n",
        "\n",
        "    return group\n",
        "#Agrupa os dados por paciente_id, e aplica a função a cada paciente separadamente.\n",
        "df = df.groupby('paciente_id').apply(add_temporal_features)\n",
        "\n",
        "#Remoção de valores faltantes gerados\n",
        "df = df.dropna(subset=['glicemia_lag1', 'glicemia_ma3', 'glicemia_ma7', 'glicemia_diff1'])\n",
        "\n",
        "# Alvo binário\n",
        "df['alerta_risco'] = ((df['glicemia'] > df['glicemia_ma3'] * 1.1) | (df['glicemia_diff1'] > 20)).astype(int)\n"
      ],
      "metadata": {
        "colab": {
          "base_uri": "https://localhost:8080/"
        },
        "id": "FaUyB4CYqCC9",
        "outputId": "068ffec6-1b31-474d-99be-8fdcc42edc63"
      },
      "execution_count": 11,
      "outputs": [
        {
          "output_type": "stream",
          "name": "stderr",
          "text": [
            "<ipython-input-11-782077433>:23: DeprecationWarning: DataFrameGroupBy.apply operated on the grouping columns. This behavior is deprecated, and in a future version of pandas the grouping columns will be excluded from the operation. Either pass `include_groups=False` to exclude the groupings or explicitly select the grouping columns after groupby to silence this warning.\n",
            "  df = df.groupby('paciente_id').apply(add_temporal_features)\n"
          ]
        }
      ]
    },
    {
      "cell_type": "markdown",
      "source": [
        "## **Criação de variáveis preditoras + Divisão em treino e teste**"
      ],
      "metadata": {
        "id": "UkT8tZ7gq-3d"
      }
    },
    {
      "cell_type": "code",
      "source": [
        "#lista com os nomes das colunas (features) que serão usadas como entradas para o modelo.\n",
        "features = ['idade', 'imc', 'glicemia', 'glicemia_lag1', 'glicemia_ma3', 'glicemia_ma7']\n",
        "\n",
        "#X é o DataFrame que contém todas as linhas e apenas as colunas que definimos como features\n",
        "X = df[features]\n",
        "\n",
        "#y é a série (coluna) do dataframe que contém o alvo (label), que nesse caso é a coluna alerta_risco\n",
        "y = df['alerta_risco']\n",
        "\n",
        "# Divisão temporal (80% mais antigas para treino)\n",
        "cutoff_date = df['data'].quantile(0.8)\n",
        "train_df = df[df['data'] <= cutoff_date]\n",
        "test_df = df[df['data'] > cutoff_date]\n",
        "\n",
        "#Aqui você será separado os dados de treino e teste em variáveis para as features\n",
        "X_train = train_df[features]\n",
        "y_train = train_df['alerta_risco']\n",
        "X_test = test_df[features]\n",
        "y_test = test_df['alerta_risco']"
      ],
      "metadata": {
        "id": "8UJ6EDSbrD9V"
      },
      "execution_count": 12,
      "outputs": []
    },
    {
      "cell_type": "markdown",
      "source": [
        "## **Padronização + treinamento e predição**"
      ],
      "metadata": {
        "id": "yuVBmpTrrZs9"
      }
    },
    {
      "cell_type": "code",
      "source": [
        "scaler = StandardScaler()\n",
        "# Padronização dos dados\n",
        "#Isso não muda a relação entre os dados, mas garante que todas as variáveis estejam na mesma escala, o que é essencial para muitos algoritmos\n",
        "X_train_scaled = scaler.fit_transform(X_train)\n",
        "X_test_scaled = scaler.transform(X_test)\n",
        "\n",
        "# Conversão para DMatrix\n",
        "#DMatrix é uma estrutura de dados otimizada para o XGBoost. Ela melhora a eficiência na memória e na velocidade durante o treinamento e predição\n",
        "dtrain = xgb.DMatrix(X_train_scaled, label=y_train, feature_names=features)\n",
        "dtest = xgb.DMatrix(X_test_scaled, label=y_test, feature_names=features)\n",
        "\n",
        "# Define os parâmetros para o treinamento do XGBoost\n",
        "params = {\n",
        "    'objective': 'binary:logistic',\n",
        "    'eval_metric': 'logloss',\n",
        "    'max_depth': 4,\n",
        "    'eta': 0.1,\n",
        "    'seed': 42\n",
        "}\n",
        "model = xgb.train(params, dtrain, num_boost_round=100)\n",
        "\n",
        "# model.predict() retorna as probabilidades estimadas de a classe ser 1 (alerta de risco)\n",
        "y_train_pred = (model.predict(dtrain) > 0.5).astype(int)\n",
        "y_test_pred = (model.predict(dtest) > 0.5).astype(int)"
      ],
      "metadata": {
        "id": "a5cdJbukrdQV"
      },
      "execution_count": 13,
      "outputs": []
    },
    {
      "cell_type": "markdown",
      "source": [
        "## **Avaliação do modelo**"
      ],
      "metadata": {
        "id": "zowh9-5Drprd"
      }
    },
    {
      "cell_type": "code",
      "source": [
        "# Avaliação\n",
        "print(\"==== DESEMPENHO NO TREINO ====\")\n",
        "print(classification_report(y_train, y_train_pred))\n",
        "\n",
        "print(\"==== DESEMPENHO NO TESTE ====\")\n",
        "print(classification_report(y_test, y_test_pred))"
      ],
      "metadata": {
        "colab": {
          "base_uri": "https://localhost:8080/"
        },
        "id": "LQDqe1-er4e9",
        "outputId": "65f0da8b-c380-4355-a717-f0b73c744252"
      },
      "execution_count": 14,
      "outputs": [
        {
          "output_type": "stream",
          "name": "stdout",
          "text": [
            "==== DESEMPENHO NO TREINO ====\n",
            "              precision    recall  f1-score   support\n",
            "\n",
            "           0       0.99      1.00      0.99     22887\n",
            "           1       0.99      0.96      0.98      5913\n",
            "\n",
            "    accuracy                           0.99     28800\n",
            "   macro avg       0.99      0.98      0.99     28800\n",
            "weighted avg       0.99      0.99      0.99     28800\n",
            "\n",
            "==== DESEMPENHO NO TESTE ====\n",
            "              precision    recall  f1-score   support\n",
            "\n",
            "           0       0.99      0.99      0.99      5650\n",
            "           1       0.97      0.95      0.96      1450\n",
            "\n",
            "    accuracy                           0.98      7100\n",
            "   macro avg       0.98      0.97      0.98      7100\n",
            "weighted avg       0.98      0.98      0.98      7100\n",
            "\n"
          ]
        }
      ]
    },
    {
      "cell_type": "markdown",
      "source": [
        "## **Gerar alertas previstos com base nas previsões do modelo**"
      ],
      "metadata": {
        "id": "6OPHcPxbsF1c"
      }
    },
    {
      "cell_type": "code",
      "source": [
        "#Aqui é criado uma cópia do DataFrame de teste para evitar modificar o original.\n",
        "test_df = test_df.copy()\n",
        "\n",
        "#Adiciona uma nova coluna chamada 'alerta_previsto' no DataFrame de teste.\n",
        "test_df['alerta_previsto'] = y_test_pred\n",
        "\n",
        "#Filtra o DataFrame para pegar apenas as linhas onde o modelo previu alerta (valor 1).\n",
        "alertas = test_df[test_df['alerta_previsto'] == 1][['data', 'paciente_id', 'glicemia']]\n",
        "print(\"\\nExemplos de alertas previstos:\")\n",
        "print(alertas.head())"
      ],
      "metadata": {
        "colab": {
          "base_uri": "https://localhost:8080/"
        },
        "id": "Ie-KaxgesIIE",
        "outputId": "f5d013a5-664e-4da3-85ac-d0a320f5d41e"
      },
      "execution_count": 15,
      "outputs": [
        {
          "output_type": "stream",
          "name": "stdout",
          "text": [
            "\n",
            "Exemplos de alertas previstos:\n",
            "                        data  paciente_id  glicemia\n",
            "paciente_id                                        \n",
            "1           30200 2023-10-30            1     112.2\n",
            "            30500 2023-11-02            1     126.9\n",
            "            31200 2023-11-09            1     128.0\n",
            "            31400 2023-11-11            1     103.2\n",
            "            31500 2023-11-12            1     122.5\n"
          ]
        }
      ]
    }
  ]
}