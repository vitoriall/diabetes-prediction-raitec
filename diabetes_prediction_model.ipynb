{
  "nbformat": 4,
  "nbformat_minor": 0,
  "metadata": {
    "colab": {
      "provenance": []
    },
    "kernelspec": {
      "name": "python3",
      "display_name": "Python 3"
    },
    "language_info": {
      "name": "python"
    }
  },
  "cells": [
    {
      "cell_type": "markdown",
      "source": [
        "# PREVISÃO DE RISCOS DE DIABETES COM IA"
      ],
      "metadata": {
        "id": "cJoAN_7hSyrD"
      }
    },
    {
      "cell_type": "markdown",
      "source": [
        "## **data_processing**"
      ],
      "metadata": {
        "id": "7FPeYoPtTPtK"
      }
    },
    {
      "cell_type": "code",
      "source": [
        "import pandas as pd\n",
        "import numpy as np\n",
        "\n",
        "def load_data(filepath):\n",
        "    \"\"\"Carrega o dataset a partir do caminho informado.\"\"\"\n",
        "    return pd.read_csv(filepath)\n",
        "\n",
        "def clean_data(df):\n",
        "    \"\"\"Substitui valores zero por NaN nas colunas onde zero não faz sentido\n",
        "    e preenche os valores ausentes com a média da coluna.\"\"\"\n",
        "    cols_with_zero = ['Glucose', 'BloodPressure', 'SkinThickness', 'Insulin', 'BMI']\n",
        "    df[cols_with_zero] = df[cols_with_zero].replace(0, np.nan)\n",
        "    df.fillna(df.mean(), inplace=True)\n",
        "    return df\n",
        "\n",
        "if __name__ == '__main__':\n",
        "    # Executa carregamento e limpeza\n",
        "    df = load_data('https://raw.githubusercontent.com/vitoriall/diabetes-prediction-raitec/refs/heads/main/data/diabetes.csv')\n",
        "    df = clean_data(df)\n",
        "\n",
        "    # Exibe estatísticas do dataframe limpo\n",
        "    print(\"Resumo estatístico dos dados tratados:\")\n",
        "    print(df.describe())"
      ],
      "metadata": {
        "colab": {
          "base_uri": "https://localhost:8080/"
        },
        "id": "5r-Qa7EEVRjL",
        "outputId": "2906bde4-23c6-449b-be5a-5fe1200ecaa5"
      },
      "execution_count": 2,
      "outputs": [
        {
          "output_type": "stream",
          "name": "stdout",
          "text": [
            "Resumo estatístico dos dados tratados:\n",
            "       Pregnancies     Glucose  BloodPressure  SkinThickness     Insulin  \\\n",
            "count   768.000000  768.000000     768.000000     768.000000  768.000000   \n",
            "mean      3.845052  121.686763      72.405184      29.153420  155.548223   \n",
            "std       3.369578   30.435949      12.096346       8.790942   85.021108   \n",
            "min       0.000000   44.000000      24.000000       7.000000   14.000000   \n",
            "25%       1.000000   99.750000      64.000000      25.000000  121.500000   \n",
            "50%       3.000000  117.000000      72.202592      29.153420  155.548223   \n",
            "75%       6.000000  140.250000      80.000000      32.000000  155.548223   \n",
            "max      17.000000  199.000000     122.000000      99.000000  846.000000   \n",
            "\n",
            "              BMI  DiabetesPedigreeFunction         Age     Outcome  \n",
            "count  768.000000                768.000000  768.000000  768.000000  \n",
            "mean    32.457464                  0.471876   33.240885    0.348958  \n",
            "std      6.875151                  0.331329   11.760232    0.476951  \n",
            "min     18.200000                  0.078000   21.000000    0.000000  \n",
            "25%     27.500000                  0.243750   24.000000    0.000000  \n",
            "50%     32.400000                  0.372500   29.000000    0.000000  \n",
            "75%     36.600000                  0.626250   41.000000    1.000000  \n",
            "max     67.100000                  2.420000   81.000000    1.000000  \n"
          ]
        }
      ]
    },
    {
      "cell_type": "markdown",
      "source": [
        "## **Análise Exploratória**"
      ],
      "metadata": {
        "id": "F3OLJGBSVdTD"
      }
    },
    {
      "cell_type": "code",
      "source": [
        "import pandas as pd\n",
        "import seaborn as sns\n",
        "import matplotlib.pyplot as plt\n",
        "import numpy as np\n",
        "import os\n",
        "\n",
        "# Configura o visual dos gráficos\n",
        "sns.set(style = 'whitegrid')\n",
        "\n",
        "# Cria uma pasta chamada \"graficos\"\n",
        "os.makedirs(\"graficos\", exist_ok = True)\n",
        "\n",
        "# Carrega e trata os dados\n",
        "def load_and_clean_data(filepath):\n",
        "    df = pd.read_csv(filepath)\n",
        "    cols_with_zero = ['Glucose', 'BloodPressure', 'SkinThickness', 'Insulin', 'BMI']\n",
        "    df[cols_with_zero] = df[cols_with_zero].replace(0, pd.NA)\n",
        "    df = df.fillna(df.mean())\n",
        "    return df\n",
        "\n",
        "# Gera histogramas\n",
        "def gerarHistogramas(df):\n",
        "    for col in df.columns[:-1]:\n",
        "        plt.figure(figsize = (8, 4))\n",
        "        sns.histplot(data = df, x = col, hue = 'Outcome', kde = True, element = 'step')\n",
        "        plt.title(f'Histograma de {col}')\n",
        "        plt.tight_layout()\n",
        "        plt.savefig(f'graficos/hist_{col}.png')\n",
        "        plt.close()\n",
        "\n",
        "# Gera boxplots\n",
        "def gerarBoxplots(df):\n",
        "    for col in df.columns[:-1]:\n",
        "        plt.figure(figsize = (8, 4))\n",
        "        sns.boxplot(x = 'Outcome', y = col, data = df)\n",
        "        plt.title(f'Boxplot de {col} por classe')\n",
        "        plt.tight_layout()\n",
        "        plt.savefig(f'graficos/box_{col}.png')\n",
        "        plt.close()\n",
        "\n",
        "# Mapa de correlação\n",
        "def gerarHeatmap(df):\n",
        "        plt.figure(figsize = (10, 8))\n",
        "        sns.heatmap(df.corr(), annot = True, cmap = 'coolwarm', fmt = \".2f\")\n",
        "        plt.title('Mapa de Correlação')\n",
        "        plt.tight_layout()\n",
        "        plt.savefig('graficos/heatmap_correlacao.png')\n",
        "        plt.close()\n",
        "\n",
        "# Pairplot\n",
        "def gerarPairplot(df):\n",
        "    pair = sns.pairplot(df, hue = 'Outcome', corner = True)\n",
        "    pair.fig.suptitle('Pairplot das variáveis', y = 1.02)\n",
        "    pair.savefig('graficos/pairplot.png')\n",
        "    plt.close()\n",
        "\n",
        "# Carrega, limpa e gera os gráficos\n",
        "if __name__ == '__main__':\n",
        "    caminho_csv = 'https://raw.githubusercontent.com/vitoriall/diabetes-prediction-raitec/refs/heads/main/data/diabetes.csv'\n",
        "    df = load_and_clean_data(caminho_csv)\n",
        "\n",
        "    gerarHistogramas(df)\n",
        "    gerarBoxplots(df)\n",
        "    gerarHeatmap(df)\n",
        "    gerarPairplot(df)"
      ],
      "metadata": {
        "colab": {
          "base_uri": "https://localhost:8080/"
        },
        "id": "MI5C1wmxXSxU",
        "outputId": "82cfee3e-3828-4a91-bd0e-1126180db659"
      },
      "execution_count": 4,
      "outputs": [
        {
          "output_type": "stream",
          "name": "stderr",
          "text": [
            "<ipython-input-4-4102957396>:18: FutureWarning: Downcasting object dtype arrays on .fillna, .ffill, .bfill is deprecated and will change in a future version. Call result.infer_objects(copy=False) instead. To opt-in to the future behavior, set `pd.set_option('future.no_silent_downcasting', True)`\n",
            "  df = df.fillna(df.mean())\n"
          ]
        }
      ]
    },
    {
      "cell_type": "markdown",
      "source": [
        "## **Modelagem**"
      ],
      "metadata": {
        "id": "3Zxf8LVWX0O0"
      }
    },
    {
      "cell_type": "code",
      "source": [
        "from sklearn.model_selection import train_test_split\n",
        "from sklearn.tree import DecisionTreeClassifier\n",
        "from sklearn.ensemble import RandomForestClassifier\n",
        "from sklearn.linear_model import LogisticRegression\n",
        "from sklearn.metrics import accuracy_score, recall_score, classification_report\n",
        "\n",
        "# Função para dividir o dataframe em treino e teste\n",
        "def split_data(df, target_col='Outcome', test_size=0.2, random_state=42):\n",
        "    X = df.drop(columns=[target_col])  # Features\n",
        "    y = df[target_col]  # Rótulo (alvo)\n",
        "    return train_test_split(X, y, test_size=test_size, random_state=random_state)\n",
        "\n",
        "# Função para instanciar o modelo de acordo com o nome informado\n",
        "def get_model(model_name):\n",
        "    if model_name == 'decision_tree':\n",
        "        return DecisionTreeClassifier(random_state=42)\n",
        "    elif model_name == 'random_forest':\n",
        "        return RandomForestClassifier(n_estimators=100, random_state=42)\n",
        "    elif model_name == 'logistic_regression':\n",
        "        return LogisticRegression(max_iter=1000, random_state=42)\n",
        "    else:\n",
        "        raise ValueError(f\"Modelo '{model_name}' não implementado.\")\n",
        "\n",
        "# Função principal que treina e avalia o modelo\n",
        "def train_and_evaluate(model_name, filepath='https://raw.githubusercontent.com/vitoriall/diabetes-prediction-raitec/refs/heads/main/data/diabetes.csv'):\n",
        "    raw_df = load_data(filepath)            # Carregamento do CSV bruto\n",
        "    cleaned_df = clean_data(raw_df)         # Limpeza/preparação dos dados\n",
        "\n",
        "    X_train, X_test, y_train, y_test = split_data(cleaned_df)  # Separação dos dados\n",
        "\n",
        "    model = get_model(model_name)           # Seleciona e instancia o modelo\n",
        "    model.fit(X_train, y_train)             # Treina o modelo\n",
        "\n",
        "    y_pred = model.predict(X_test)          # Faz previsões no conjunto de teste\n",
        "\n",
        "    # Breve avaliação do modelo\n",
        "    print(f\"\\n--- Resultados para o Modelo: {model_name.replace('_', ' ').title()} ---\")\n",
        "    print(\"Acurácia:\", accuracy_score(y_test, y_pred))\n",
        "    print(\"Recall:\", recall_score(y_test, y_pred))\n",
        "    print(\"Relatório de Classificação:\\n\", classification_report(y_test, y_pred))\n",
        "\n",
        "    return model, y_pred, y_test\n",
        "\n",
        "# Executa o código abaixo apenas se o script for rodado diretamente\n",
        "if __name__ == \"__main__\":\n",
        "    print(\"Iniciando treinamento e avaliação dos modelos...\")\n",
        "\n",
        "    # Lista com os modelos que vamos testar\n",
        "    models_to_test = ['decision_tree', 'random_forest', 'logistic_regression']\n",
        "\n",
        "    trained_models = {}  # Dicionário para guardar os modelos e seus resultados\n",
        "\n",
        "    for model_name in models_to_test:\n",
        "        model, y_pred, y_test_actual = train_and_evaluate(model_name)\n",
        "        trained_models[model_name] = {\n",
        "            'model': model,\n",
        "            'y_pred': y_pred,\n",
        "            'y_test': y_test_actual\n",
        "        }"
      ],
      "metadata": {
        "colab": {
          "base_uri": "https://localhost:8080/"
        },
        "id": "97SIqYddYJHM",
        "outputId": "766c49cd-739c-4966-beb0-8441ec088a92"
      },
      "execution_count": 5,
      "outputs": [
        {
          "output_type": "stream",
          "name": "stdout",
          "text": [
            "Iniciando treinamento e avaliação dos modelos...\n",
            "\n",
            "--- Resultados para o Modelo: Decision Tree ---\n",
            "Acurácia: 0.7207792207792207\n",
            "Recall: 0.6181818181818182\n",
            "Relatório de Classificação:\n",
            "               precision    recall  f1-score   support\n",
            "\n",
            "           0       0.79      0.78      0.78        99\n",
            "           1       0.61      0.62      0.61        55\n",
            "\n",
            "    accuracy                           0.72       154\n",
            "   macro avg       0.70      0.70      0.70       154\n",
            "weighted avg       0.72      0.72      0.72       154\n",
            "\n",
            "\n",
            "--- Resultados para o Modelo: Random Forest ---\n",
            "Acurácia: 0.7532467532467533\n",
            "Recall: 0.6545454545454545\n",
            "Relatório de Classificação:\n",
            "               precision    recall  f1-score   support\n",
            "\n",
            "           0       0.81      0.81      0.81        99\n",
            "           1       0.65      0.65      0.65        55\n",
            "\n",
            "    accuracy                           0.75       154\n",
            "   macro avg       0.73      0.73      0.73       154\n",
            "weighted avg       0.75      0.75      0.75       154\n",
            "\n",
            "\n",
            "--- Resultados para o Modelo: Logistic Regression ---\n",
            "Acurácia: 0.7532467532467533\n",
            "Recall: 0.6181818181818182\n",
            "Relatório de Classificação:\n",
            "               precision    recall  f1-score   support\n",
            "\n",
            "           0       0.80      0.83      0.81        99\n",
            "           1       0.67      0.62      0.64        55\n",
            "\n",
            "    accuracy                           0.75       154\n",
            "   macro avg       0.73      0.72      0.73       154\n",
            "weighted avg       0.75      0.75      0.75       154\n",
            "\n"
          ]
        }
      ]
    },
    {
      "cell_type": "markdown",
      "source": [
        "## **Otimização e Avaliação**"
      ],
      "metadata": {
        "id": "7nP2oIo7YfJ8"
      }
    },
    {
      "cell_type": "code",
      "source": [
        "import pandas as pd\n",
        "import numpy as np\n",
        "from sklearn.ensemble import RandomForestClassifier\n",
        "from sklearn.model_selection import train_test_split\n",
        "from sklearn.metrics import (\n",
        "    recall_score, precision_score, classification_report,\n",
        "    confusion_matrix\n",
        ")\n",
        "\n",
        "def load_data(filepath):\n",
        "    \"Carrega o dataset a partir do caminho informado.\"\n",
        "    return pd.read_csv(filepath)\n",
        "\n",
        "def clean_data(df):\n",
        "    \"\"\"Substitui valores zero por NaN nas colunas onde zero não faz sentido\n",
        "    e preenche os valores ausentes com a mediana da coluna.\"\"\"\n",
        "    cols_with_zero = ['Glucose', 'BloodPressure', 'SkinThickness', 'Insulin', 'BMI']\n",
        "    df[cols_with_zero] = df[cols_with_zero].replace(0, np.nan)\n",
        "    df.fillna(df.median(), inplace=True)\n",
        "    return df\n",
        "\n",
        "def train_model(X_train, y_train):\n",
        "    \"Treina o modelo Random Forest com peso maior para classe positiva.\"\n",
        "    model = RandomForestClassifier(class_weight={0: 1, 1: 3}, random_state=42)\n",
        "    model.fit(X_train, y_train)\n",
        "    return model\n",
        "\n",
        "def evaluate_model(model, X_test, y_test, limiar=0.3):\n",
        "    \"Avalia o modelo com limiar ajustado e imprime métricas.\"\n",
        "    y_proba = model.predict_proba(X_test)[:, 1]\n",
        "    y_pred = (y_proba >= limiar).astype(int)\n",
        "\n",
        "    recall = recall_score(y_test, y_pred)\n",
        "    precision = precision_score(y_test, y_pred)\n",
        "    cm = confusion_matrix(y_test, y_pred)\n",
        "\n",
        "    print(f\"Recall da classe 1 (positiva): {recall:.4f}\")\n",
        "    print(f\"Precision da classe 1 (positiva): {precision:.4f}\\n\")\n",
        "    print(\"Relatório completo:\\n\")\n",
        "    print(classification_report(y_test, y_pred, digits=4))\n",
        "\n",
        "    # Matriz de confusão\n",
        "    print(f\"Matriz de Confusão:\\n {cm}\")\n",
        "\n",
        "    return y_pred\n",
        "\n",
        "if __name__ == '__main__':\n",
        "    # Caminho do dataset\n",
        "    filepath = 'https://raw.githubusercontent.com/vitoriall/diabetes-prediction-raitec/refs/heads/main/data/diabetes.csv'\n",
        "\n",
        "    # 1. Carregar e limpar os dados\n",
        "    df = load_data(filepath)\n",
        "    df = clean_data(df)\n",
        "\n",
        "    # 2. Separar variáveis\n",
        "    X = df.drop(\"Outcome\", axis=1)\n",
        "    y = df[\"Outcome\"]\n",
        "\n",
        "    # 3. Dividir em treino e teste\n",
        "    X_train, X_test, y_train, y_test = train_test_split(\n",
        "        X, y, test_size=0.2, random_state=42, stratify=y\n",
        "    )\n",
        "\n",
        "    # 4. Treinar o modelo\n",
        "    model = train_model(X_train, y_train)\n",
        "\n",
        "    # 5. Avaliar o modelo com limiar ajustado\n",
        "    y_pred = evaluate_model(model, X_test, y_test, limiar=0.3)"
      ],
      "metadata": {
        "colab": {
          "base_uri": "https://localhost:8080/"
        },
        "id": "9mQZ3QJhYmYM",
        "outputId": "633eff84-4dd2-465f-c083-0e1c126df4a1"
      },
      "execution_count": 6,
      "outputs": [
        {
          "output_type": "stream",
          "name": "stdout",
          "text": [
            "Recall da classe 1 (positiva): 0.8519\n",
            "Precision da classe 1 (positiva): 0.6053\n",
            "\n",
            "Relatório completo:\n",
            "\n",
            "              precision    recall  f1-score   support\n",
            "\n",
            "           0     0.8974    0.7000    0.7865       100\n",
            "           1     0.6053    0.8519    0.7077        54\n",
            "\n",
            "    accuracy                         0.7532       154\n",
            "   macro avg     0.7513    0.7759    0.7471       154\n",
            "weighted avg     0.7950    0.7532    0.7589       154\n",
            "\n",
            "Matriz de Confusão:\n",
            " [[70 30]\n",
            " [ 8 46]]\n"
          ]
        }
      ]
    },
    {
      "cell_type": "markdown",
      "source": [
        "## **Predição**"
      ],
      "metadata": {
        "id": "IU80ZFDlZPEM"
      }
    },
    {
      "cell_type": "code",
      "source": [
        "import pandas as pd\n",
        "import numpy as np\n",
        "from sklearn.ensemble import RandomForestClassifier\n",
        "from sklearn.model_selection import train_test_split\n",
        "from sklearn.metrics import (\n",
        "    recall_score, precision_score, classification_report,\n",
        "    confusion_matrix\n",
        ")\n",
        "\n",
        "def load_data(filepath):\n",
        "    return pd.read_csv(filepath)\n",
        "\n",
        "def clean_data(df):\n",
        "    cols_with_zero = ['Glucose', 'BloodPressure', 'SkinThickness', 'Insulin', 'BMI']\n",
        "    df[cols_with_zero] = df[cols_with_zero].replace(0, np.nan)\n",
        "    df.fillna(df.median(), inplace=True)\n",
        "    return df\n",
        "\n",
        "def train_model(X_train, y_train):\n",
        "    model = RandomForestClassifier(class_weight={0: 1, 1: 3}, random_state=42)\n",
        "    model.fit(X_train, y_train)\n",
        "    return model\n",
        "\n",
        "def evaluate_model(model, X_test, y_test, limiar=0.3):\n",
        "    y_proba = model.predict_proba(X_test)[:, 1]\n",
        "    y_pred = (y_proba >= limiar).astype(int)\n",
        "\n",
        "    recall = recall_score(y_test, y_pred)\n",
        "    precision = precision_score(y_test, y_pred)\n",
        "    cm = confusion_matrix(y_test, y_pred)\n",
        "\n",
        "    print(f\"Recall da classe 1 (positiva): {recall:.4f}\")\n",
        "    print(f\"Precision da classe 1 (positiva): {precision:.4f}\\n\")\n",
        "    print(\"Relatório completo:\\n\")\n",
        "    print(classification_report(y_test, y_pred, digits=4))\n",
        "    print(f\"Matriz de Confusão:\\n {cm}\")\n",
        "\n",
        "    return y_pred\n",
        "\n",
        "def predict_patient(model, X_columns):\n",
        "    print(\"\\nInsira os dados do paciente:\")\n",
        "    entrada = []\n",
        "    for coluna in X_columns:\n",
        "        valor = float(input(f\"{coluna}: \"))\n",
        "        entrada.append(valor)\n",
        "\n",
        "    dados_paciente = pd.DataFrame([entrada], columns=X_columns)\n",
        "\n",
        "    # Prever a probabilidade\n",
        "    prob = model.predict_proba(dados_paciente)[0][1]\n",
        "    risco = \"ALTO\" if prob >= 0.3 else \"BAIXO\"\n",
        "\n",
        "    print(f\"\\nProbabilidade de diabetes: {prob:.2f}\")\n",
        "    print(f\"Classificação de risco: {risco}\")\n",
        "\n",
        "if __name__ == '__main__':\n",
        "    filepath = 'https://raw.githubusercontent.com/vitoriall/diabetes-prediction-raitec/refs/heads/main/data/diabetes.csv'\n",
        "\n",
        "    # 1. Carregar e limpar os dados\n",
        "    df = load_data(filepath)\n",
        "    df = clean_data(df)\n",
        "\n",
        "    # 2. Separar variáveis\n",
        "    X = df.drop(\"Outcome\", axis=1)\n",
        "    y = df[\"Outcome\"]\n",
        "\n",
        "    # 3. Dividir em treino e teste\n",
        "    X_train, X_test, y_train, y_test = train_test_split(\n",
        "        X, y, test_size=0.2, random_state=42, stratify=y\n",
        "    )\n",
        "\n",
        "    # 4. Treinar o modelo\n",
        "    model = train_model(X_train, y_train)\n",
        "\n",
        "    # 5. Avaliar o modelo\n",
        "    y_pred = evaluate_model(model, X_test, y_test, limiar=0.3)\n",
        "\n",
        "    # 6. Fazer predição com dados inseridos manualmente\n",
        "    predict_patient(model, X.columns.tolist())\n"
      ],
      "metadata": {
        "colab": {
          "base_uri": "https://localhost:8080/"
        },
        "id": "-0LXMEmKZkZ0",
        "outputId": "15b0f5b7-dd07-4fff-9938-971c126a009b"
      },
      "execution_count": 12,
      "outputs": [
        {
          "output_type": "stream",
          "name": "stdout",
          "text": [
            "Recall da classe 1 (positiva): 0.8519\n",
            "Precision da classe 1 (positiva): 0.6053\n",
            "\n",
            "Relatório completo:\n",
            "\n",
            "              precision    recall  f1-score   support\n",
            "\n",
            "           0     0.8974    0.7000    0.7865       100\n",
            "           1     0.6053    0.8519    0.7077        54\n",
            "\n",
            "    accuracy                         0.7532       154\n",
            "   macro avg     0.7513    0.7759    0.7471       154\n",
            "weighted avg     0.7950    0.7532    0.7589       154\n",
            "\n",
            "Matriz de Confusão:\n",
            " [[70 30]\n",
            " [ 8 46]]\n",
            "\n",
            "Insira os dados do paciente:\n",
            "Pregnancies: 1\n",
            "Glucose: 20\n",
            "BloodPressure: 10\n",
            "SkinThickness: 4\n",
            "Insulin: 14\n",
            "BMI: 50\n",
            "DiabetesPedigreeFunction: 1\n",
            "Age: 50\n",
            "\n",
            "Probabilidade de diabetes: 0.16\n",
            "Classificação de risco: BAIXO\n"
          ]
        }
      ]
    },
    {
      "cell_type": "code",
      "source": [],
      "metadata": {
        "id": "ONC_jnClaO81"
      },
      "execution_count": null,
      "outputs": []
    }
  ]
}